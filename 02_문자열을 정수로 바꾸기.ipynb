{
 "cells": [
  {
   "cell_type": "markdown",
   "metadata": {},
   "source": [
    "- 문제 설명\n",
    "\n",
    "\n",
    "문자열 s를 숫자로 변환한 결과를 반환하는 함수, solution을 완성하세요.\n",
    "\n",
    "- 제한 조건\n",
    "\n",
    "\n",
    "s의 길이는 1 이상 5이하입니다.\n",
    "s의 맨앞에는 부호(+, -)가 올 수 있습니다.\n",
    "s는 부호와 숫자로만 이루어져있습니다.\n",
    "s는 0으로 시작하지 않습니다."
   ]
  },
  {
   "cell_type": "markdown",
   "metadata": {},
   "source": [
    "예를들어 str이 1234이면 1234를 반환하고, -1234이면 -1234를 반환하면 됩니다.\n",
    "str은 부호(+,-)와 숫자로만 구성되어 있고, 잘못된 값이 입력되는 경우는 없습니다."
   ]
  },
  {
   "cell_type": "code",
   "execution_count": 1,
   "metadata": {},
   "outputs": [],
   "source": [
    "s = \"1234\"\n",
    "a = \"-1234\""
   ]
  },
  {
   "cell_type": "code",
   "execution_count": 2,
   "metadata": {},
   "outputs": [
    {
     "data": {
      "text/plain": [
       "1234"
      ]
     },
     "execution_count": 2,
     "metadata": {},
     "output_type": "execute_result"
    }
   ],
   "source": [
    "int(s)"
   ]
  },
  {
   "cell_type": "code",
   "execution_count": 3,
   "metadata": {},
   "outputs": [
    {
     "data": {
      "text/plain": [
       "-1234"
      ]
     },
     "execution_count": 3,
     "metadata": {},
     "output_type": "execute_result"
    }
   ],
   "source": [
    "int(a)"
   ]
  },
  {
   "cell_type": "markdown",
   "metadata": {},
   "source": [
    "### 멋져..."
   ]
  },
  {
   "cell_type": "code",
   "execution_count": 6,
   "metadata": {},
   "outputs": [],
   "source": [
    "def strtoint(s):\n",
    "    result = 0\n",
    "\n",
    "    for idx, number in enumerate(s[::-1]): # 글자를 index와 숫자로 뒤부터 쪼갠다. (가장 낮은 숫자부터 우리는 숫자를 뒤부터 읽는다.)\n",
    "        if number == '-': # -기호가 붙으면\n",
    "            result *= -1 # int에 -를 한다\n",
    "        else:\n",
    "            result += int(number) * (10 ** idx) # 10진법으로 변환해준다 고고씽\n",
    "\n",
    "    return result"
   ]
  },
  {
   "cell_type": "code",
   "execution_count": 9,
   "metadata": {},
   "outputs": [
    {
     "data": {
      "text/plain": [
       "1234"
      ]
     },
     "execution_count": 9,
     "metadata": {},
     "output_type": "execute_result"
    }
   ],
   "source": [
    "strtoint(s)"
   ]
  },
  {
   "cell_type": "code",
   "execution_count": 10,
   "metadata": {},
   "outputs": [
    {
     "data": {
      "text/plain": [
       "-1234"
      ]
     },
     "execution_count": 10,
     "metadata": {},
     "output_type": "execute_result"
    }
   ],
   "source": [
    "strtoint(a)"
   ]
  },
  {
   "cell_type": "markdown",
   "metadata": {},
   "source": [
    "### 거꾸로하면 -1이 적용이 안된다. 왜냐하면 -1이 0번 인덱스를 갖고 있기 때문에 다른 방식으로 처리해야 한다."
   ]
  },
  {
   "cell_type": "code",
   "execution_count": 145,
   "metadata": {},
   "outputs": [],
   "source": [
    "def strtoint2(s):\n",
    "    result = 0\n",
    "\n",
    "    for idx, number in enumerate(s): # 글자를 index와 숫자로 뒤부터 쪼갠다.\n",
    "                                    #(가장 낮은 숫자부터 우리는 숫자를 뒤부터 읽는다. 포문은 앞부터 실행한다.)\n",
    "        if number == '-': # -기호가 붙으면\n",
    "            a = -1 # int에 -를 한다\n",
    "\n",
    "        else:\n",
    "            a = 1\n",
    "            result += int(int(number) * (0.1 ** idx) * (10 ** (len(s)-1))) # 10진법으로 변환해준다 고고\n",
    "\n",
    "    return result * a"
   ]
  },
  {
   "cell_type": "code",
   "execution_count": 146,
   "metadata": {},
   "outputs": [
    {
     "data": {
      "text/plain": [
       "['-']"
      ]
     },
     "execution_count": 146,
     "metadata": {},
     "output_type": "execute_result"
    }
   ],
   "source": [
    "[n for i, n in enumerate(a) if n == '-']"
   ]
  },
  {
   "cell_type": "code",
   "execution_count": 147,
   "metadata": {},
   "outputs": [
    {
     "data": {
      "text/plain": [
       "[(0, '-'), (1, '1'), (2, '2'), (3, '3'), (4, '4')]"
      ]
     },
     "execution_count": 147,
     "metadata": {},
     "output_type": "execute_result"
    }
   ],
   "source": [
    "list(enumerate(a))"
   ]
  },
  {
   "cell_type": "code",
   "execution_count": 148,
   "metadata": {},
   "outputs": [],
   "source": [
    "s2 = \"12345\""
   ]
  },
  {
   "cell_type": "code",
   "execution_count": 149,
   "metadata": {},
   "outputs": [
    {
     "data": {
      "text/plain": [
       "1234"
      ]
     },
     "execution_count": 149,
     "metadata": {},
     "output_type": "execute_result"
    }
   ],
   "source": [
    "strtoint2(s)"
   ]
  },
  {
   "cell_type": "code",
   "execution_count": 153,
   "metadata": {},
   "outputs": [
    {
     "data": {
      "text/plain": [
       "-1234"
      ]
     },
     "execution_count": 153,
     "metadata": {},
     "output_type": "execute_result"
    }
   ],
   "source": [
    "strtoint(a)"
   ]
  },
  {
   "cell_type": "code",
   "execution_count": 152,
   "metadata": {},
   "outputs": [
    {
     "data": {
      "text/plain": [
       "12345"
      ]
     },
     "execution_count": 152,
     "metadata": {},
     "output_type": "execute_result"
    }
   ],
   "source": [
    "strtoint2(s2)"
   ]
  }
 ],
 "metadata": {
  "kernelspec": {
   "display_name": "Python 3",
   "language": "python",
   "name": "python3"
  },
  "language_info": {
   "codemirror_mode": {
    "name": "ipython",
    "version": 3
   },
   "file_extension": ".py",
   "mimetype": "text/x-python",
   "name": "python",
   "nbconvert_exporter": "python",
   "pygments_lexer": "ipython3",
   "version": "3.7.4"
  }
 },
 "nbformat": 4,
 "nbformat_minor": 2
}
