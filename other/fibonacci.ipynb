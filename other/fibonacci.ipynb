{
 "cells": [
  {
   "cell_type": "markdown",
   "metadata": {},
   "source": [
    "https://shoark7.github.io/programming/algorithm/%ED%94%BC%EB%B3%B4%EB%82%98%EC%B9%98-%EC%95%8C%EA%B3%A0%EB%A6%AC%EC%A6%98%EC%9D%84-%ED%95%B4%EA%B2%B0%ED%95%98%EB%8A%94-5%EA%B0%80%EC%A7%80-%EB%B0%A9%EB%B2%95.html"
   ]
  },
  {
   "cell_type": "code",
   "execution_count": 1,
   "metadata": {},
   "outputs": [
    {
     "name": "stdout",
     "output_type": "stream",
     "text": [
      "1 1 2 3 5 8 13 21 34 55 "
     ]
    }
   ],
   "source": [
    "# 피보나치수열\n",
    "class Fib:\n",
    "    \n",
    "    def __init__(self): # 클래스 안에 함수는 스페셜 메서드\n",
    "        self.prev = 0\n",
    "        self.curr = 1\n",
    "        \n",
    "    def __next__(self):\n",
    "        value = self.curr\n",
    "        self.curr += self.prev\n",
    "        self.prev = value\n",
    "#        self.prev, self.curr = self.curr, self.prev + self.curr\n",
    "        return value\n",
    "\n",
    "fib = Fib()\n",
    "\n",
    "for _ in range(10):\n",
    "    print(next(fib), end=\" \")"
   ]
  },
  {
   "cell_type": "code",
   "execution_count": 8,
   "metadata": {},
   "outputs": [
    {
     "name": "stdout",
     "output_type": "stream",
     "text": [
      "1 0 1\n",
      "1 1 1\n",
      "2 1 2\n",
      "3 2 3\n",
      "5 3 5\n",
      "8 5 8\n",
      "13 8 13\n",
      "21 13 21\n",
      "34 21 34\n",
      "55 "
     ]
    }
   ],
   "source": [
    "def fib():\n",
    "    prev, curr = 0, 1\n",
    "    while True:\n",
    "        yield curr\n",
    "        print(prev, curr)\n",
    "        prev, curr = curr, prev + curr\n",
    "\n",
    "f = fib()\n",
    "\n",
    "for _ in range(10):\n",
    "    print(next(f), end=\" \")"
   ]
  },
  {
   "cell_type": "code",
   "execution_count": 4,
   "metadata": {},
   "outputs": [
    {
     "name": "stdout",
     "output_type": "stream",
     "text": [
      "[0, 1, 4, 9, 16]\n",
      "{0, 1, 2}\n",
      "{0: 0, 1: 1, 2: 4, 3: 9, 4: 16}\n"
     ]
    }
   ],
   "source": [
    "# list : yield의 결과를 반복적으로 만들어 낸 것이 리스트 콤프리헨션\n",
    "print([number * number for number in range(5)])\n",
    "\n",
    "# set : comprehension 중복되는 데이터가 삭제됨\n",
    "print({number % 3 for number in range(5)})\n",
    "\n",
    "# dict : 딕셔너리 형태로 넣음\n",
    "print({number : number * number for number in range(5)})"
   ]
  },
  {
   "cell_type": "markdown",
   "metadata": {},
   "source": [
    "재귀적 풀이"
   ]
  },
  {
   "cell_type": "code",
   "execution_count": 5,
   "metadata": {},
   "outputs": [
    {
     "name": "stdout",
     "output_type": "stream",
     "text": [
      "1 1\n",
      "2 1\n",
      "3 2\n",
      "4 3\n",
      "5 5\n",
      "6 8\n",
      "7 13\n",
      "8 21\n",
      "9 34\n",
      "10 55\n"
     ]
    }
   ],
   "source": [
    "def fibo(n):\n",
    "    return fibo(n-1) + fibo(n-2) if n >= 2 else n\n",
    "\n",
    "for n in range(1, 11):\n",
    "    print(n, fibo(n))"
   ]
  },
  {
   "cell_type": "code",
   "execution_count": 9,
   "metadata": {},
   "outputs": [
    {
     "name": "stdout",
     "output_type": "stream",
     "text": [
      "1 1\n",
      "2 1\n",
      "3 2\n",
      "4 3\n",
      "5 5\n",
      "6 8\n",
      "7 13\n",
      "8 21\n",
      "9 34\n",
      "10 55\n"
     ]
    }
   ],
   "source": [
    "def fibo(n):\n",
    "    if n < 2:\n",
    "        return n\n",
    "\n",
    "    a, b = 0, 1\n",
    "    for i in range(n-1):\n",
    "        a, b = b, a + b\n",
    "\n",
    "    return b\n",
    "\n",
    "\n",
    "for n in range(1, 11):\n",
    "    print(n, fibo(n))"
   ]
  },
  {
   "cell_type": "markdown",
   "metadata": {},
   "source": [
    "### 동적계획법 : 한마디로 리스트에 다 때려박아서 언제든지 데이터를 쓸 수 있게 만듬"
   ]
  },
  {
   "cell_type": "code",
   "execution_count": 11,
   "metadata": {},
   "outputs": [
    {
     "name": "stdout",
     "output_type": "stream",
     "text": [
      "354224848179261915075\n"
     ]
    }
   ],
   "source": [
    "# n을 100이라고 하자.\n",
    "cache = [0 for _ in range(100+1)]\n",
    "cache[1] = 1\n",
    "\n",
    "for i in range(2, 100+1):\n",
    "    cache[i] = cache[i-1] + cache[i-2]\n",
    "\n",
    "print(cache[100])"
   ]
  },
  {
   "cell_type": "code",
   "execution_count": 18,
   "metadata": {},
   "outputs": [
    {
     "data": {
      "text/plain": [
       "354224848179261915075"
      ]
     },
     "execution_count": 18,
     "metadata": {},
     "output_type": "execute_result"
    }
   ],
   "source": [
    "cache[100]"
   ]
  },
  {
   "cell_type": "code",
   "execution_count": 14,
   "metadata": {},
   "outputs": [
    {
     "data": {
      "text/plain": [
       "55"
      ]
     },
     "execution_count": 14,
     "metadata": {},
     "output_type": "execute_result"
    }
   ],
   "source": [
    "cache[10]"
   ]
  },
  {
   "cell_type": "markdown",
   "metadata": {},
   "source": [
    "### 업그레이드 동적 계획법 : 함수가 실행될 때만 메모리에 cache를 올려 놓는다."
   ]
  },
  {
   "cell_type": "code",
   "execution_count": 20,
   "metadata": {},
   "outputs": [
    {
     "name": "stdout",
     "output_type": "stream",
     "text": [
      "354224848179261915075\n"
     ]
    }
   ],
   "source": [
    "def fibo(n):\n",
    "    if n < 2:\n",
    "        return n\n",
    "    cache = [0 for _ in range(n+1)]\n",
    "    cache[1] = 1\n",
    "    \n",
    "    for i in range(2, 100+1):\n",
    "        cache[i] = cache[i-1] + cache[i-2]\n",
    "\n",
    "    return cache[n]\n",
    "\n",
    "print(fibo(100))"
   ]
  },
  {
   "cell_type": "code",
   "execution_count": 36,
   "metadata": {},
   "outputs": [
    {
     "data": {
      "text/plain": [
       "354224848179261915075"
      ]
     },
     "execution_count": 36,
     "metadata": {},
     "output_type": "execute_result"
    }
   ],
   "source": [
    "def fibo(n, __cache={0: 0, 1: 1}):\n",
    "    \"\"\"Get nth fibonacci number\"\"\"\n",
    "    if n in __cache:\n",
    "        return __cache[n]\n",
    "\n",
    "    __cache[n] = fibo(n-1) + fibo(n-2)\n",
    "    return __cache[n]\n",
    "\n",
    "\n",
    "fibo(100)"
   ]
  },
  {
   "cell_type": "markdown",
   "metadata": {},
   "source": [
    "### 행렬의 곱셈을 활용한 피보나치의 수열"
   ]
  },
  {
   "cell_type": "code",
   "execution_count": 40,
   "metadata": {},
   "outputs": [
    {
     "data": {
      "text/plain": [
       "354224848179261915075"
      ]
     },
     "execution_count": 40,
     "metadata": {},
     "output_type": "execute_result"
    }
   ],
   "source": [
    "def fibo(n):\n",
    "    SIZE = 2\n",
    "    ZERO = [[1, 0], [0, 1]] # 행렬의 항등원\n",
    "    BASE = [[1, 1], [1, 0]] # 곱셈을 시작해 나갈 기본 행렬\n",
    "\n",
    "    # 두 행렬의 곱을 구한다\n",
    "    def square_matrix_mul(a, b, size=SIZE):\n",
    "        new = [[0 for _ in range(size)] for _ in range(size)]\n",
    "\n",
    "        for i in range(size):\n",
    "            for j in range(size):\n",
    "                for k in range(size):\n",
    "                    new[i][j] += a[i][k] * b[k][j]\n",
    "\n",
    "        return new\n",
    "\n",
    "    # 기본 행렬을 n번 곱한 행렬을 만든다\n",
    "    def get_nth(n):\n",
    "        matrix = ZERO.copy()\n",
    "        k = 0\n",
    "        tmp = BASE.copy()\n",
    "\n",
    "        while 2 ** k <= n:\n",
    "            if n & (1 << k) != 0:\n",
    "                matrix = square_matrix_mul(matrix, tmp)\n",
    "            k += 1\n",
    "            tmp = square_matrix_mul(tmp, tmp)\n",
    "\n",
    "        return matrix\n",
    "\n",
    "    return get_nth(n)[1][0]\n",
    "\n",
    "\n",
    "fibo(100)"
   ]
  },
  {
   "cell_type": "markdown",
   "metadata": {},
   "source": [
    "### 알고리즘의 지존 = 일반항"
   ]
  },
  {
   "cell_type": "code",
   "execution_count": 39,
   "metadata": {},
   "outputs": [
    {
     "data": {
      "text/plain": [
       "354224848179263111168"
      ]
     },
     "execution_count": 39,
     "metadata": {},
     "output_type": "execute_result"
    }
   ],
   "source": [
    "def fibo(n):\n",
    "    sqrt_5 = 5 ** (1/2)\n",
    "    ans = 1 / sqrt_5 * ( ((1 + sqrt_5) / 2) ** n  - ((1 - sqrt_5) / 2) ** n )\n",
    "    return int(ans)\n",
    "\n",
    "\n",
    "fibo(100)"
   ]
  },
  {
   "cell_type": "code",
   "execution_count": null,
   "metadata": {},
   "outputs": [],
   "source": []
  }
 ],
 "metadata": {
  "kernelspec": {
   "display_name": "Python 3",
   "language": "python",
   "name": "python3"
  },
  "language_info": {
   "codemirror_mode": {
    "name": "ipython",
    "version": 3
   },
   "file_extension": ".py",
   "mimetype": "text/x-python",
   "name": "python",
   "nbconvert_exporter": "python",
   "pygments_lexer": "ipython3",
   "version": "3.7.4"
  }
 },
 "nbformat": 4,
 "nbformat_minor": 2
}
